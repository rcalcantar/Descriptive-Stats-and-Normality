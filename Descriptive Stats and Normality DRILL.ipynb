{
 "cells": [
  {
   "cell_type": "code",
   "execution_count": 1,
   "metadata": {},
   "outputs": [],
   "source": [
    "import pandas as pd\n",
    "import numpy as np\n",
    "import matplotlib.pyplot as plt\n",
    "%matplotlib inline"
   ]
  },
  {
   "cell_type": "code",
   "execution_count": 2,
   "metadata": {},
   "outputs": [
    {
     "data": {
      "text/plain": [
       "<matplotlib.lines.Line2D at 0x10b683f0>"
      ]
     },
     "execution_count": 2,
     "metadata": {},
     "output_type": "execute_result"
    },
    {
     "data": {
      "image/png": "[encoded data removed]",
      "text/plain": [
       "<Figure size 432x288 with 1 Axes>"
      ]
     },
     "metadata": {
      "needs_background": "light"
     },
     "output_type": "display_data"
    }
   ],
   "source": [
    "distgeo = np.random.geometric(.05, 100)\n",
    "plt.hist(distgeo, color = 'c', bins = 10)\n",
    "\n",
    "plt.axvline(distgeo.mean(), color = 'b', linestyle = 'solid', linewidth = 2)\n",
    "plt.axvline(distgeo.mean() + distgeo.std(), color = 'b', linestyle = 'dashed', linewidth = 2)\n",
    "plt.axvline(distgeo.mean() - distgeo.std(), color = 'b', linestyle = 'dashed', linewidth = 2)"
   ]
  },
  {
   "cell_type": "code",
   "execution_count": 3,
   "metadata": {},
   "outputs": [
    {
     "name": "stdout",
     "output_type": "stream",
     "text": [
      "19.51\n",
      "18.71763606869201\n"
     ]
    }
   ],
   "source": [
    "print(np.mean(distgeo))\n",
    "print(np.std(distgeo))"
   ]
  },
  {
   "cell_type": "code",
   "execution_count": 4,
   "metadata": {},
   "outputs": [
    {
     "data": {
      "text/plain": [
       "<matplotlib.lines.Line2D at 0x10be0c50>"
      ]
     },
     "execution_count": 4,
     "metadata": {},
     "output_type": "execute_result"
    },
    {
     "data": {
      "image/png": "[encoded data removed]",
      "text/plain": [
       "<Figure size 432x288 with 1 Axes>"
      ]
     },
     "metadata": {
      "needs_background": "light"
     },
     "output_type": "display_data"
    }
   ],
   "source": [
    "distpoisson = np.random.poisson(50, 100)\n",
    "plt.hist(distpoisson, color = 'red', bins = 10)\n",
    "plt.axvline(distpoisson.mean(), color = 'black', linestyle = 'solid', linewidth = 2)\n",
    "plt.axvline(distpoisson.mean() + distpoisson.std(), color = 'black', linestyle = 'dashed', linewidth = 2)\n",
    "plt.axvline(distpoisson.mean() - distpoisson.std(), color = 'black', linestyle = 'dashed', linewidth = 2)"
   ]
  },
  {
   "cell_type": "code",
   "execution_count": 5,
   "metadata": {},
   "outputs": [
    {
     "name": "stdout",
     "output_type": "stream",
     "text": [
      "49.5\n",
      "7.1154760908880865\n"
     ]
    }
   ],
   "source": [
    "print(np.mean(distpoisson))\n",
    "print(np.std(distpoisson))"
   ]
  },
  {
   "cell_type": "code",
   "execution_count": 12,
   "metadata": {},
   "outputs": [
    {
     "data": {
      "text/plain": [
       "<matplotlib.lines.Line2D at 0x15d6830>"
      ]
     },
     "execution_count": 12,
     "metadata": {},
     "output_type": "execute_result"
    },
    {
     "data": {
      "image/png": "[encoded data removed]",
      "text/plain": [
       "<Figure size 432x288 with 1 Axes>"
      ]
     },
     "metadata": {
      "needs_background": "light"
     },
     "output_type": "display_data"
    }
   ],
   "source": [
    "distpower = np.random.power(10, 100)\n",
    "plt.hist(distpower, color = 'c', bins = 10)\n",
    "plt.axvline(distpower.mean(), color = 'black', linestyle = 'solid', linewidth = 2)\n",
    "plt.axvline(distpower.mean() + distpower.std(), color = 'black', linestyle = 'dashed', linewidth = 2)\n",
    "plt.axvline(distpower.mean() - distpower.std(), color = 'black', linestyle = 'dashed', linewidth = 2)"
   ]
  },
  {
   "cell_type": "code",
   "execution_count": 13,
   "metadata": {},
   "outputs": [
    {
     "name": "stdout",
     "output_type": "stream",
     "text": [
      "0.9070855558956582\n",
      "0.08198626036388515\n"
     ]
    }
   ],
   "source": [
    "print(np.mean(distpower))\n",
    "print(np.std(distpower))"
   ]
  },
  {
   "cell_type": "code",
   "execution_count": 31,
   "metadata": {},
   "outputs": [
    {
     "data": {
      "text/plain": [
       "<matplotlib.lines.Line2D at 0x121a3290>"
      ]
     },
     "execution_count": 31,
     "metadata": {},
     "output_type": "execute_result"
    },
    {
     "data": {
      "image/png": "[encoded data removed]",
      "text/plain": [
       "<Figure size 432x288 with 1 Axes>"
      ]
     },
     "metadata": {
      "needs_background": "light"
     },
     "output_type": "display_data"
    }
   ],
   "source": [
    "disttri = np.random.triangular(-.5, 0, 2, 100)\n",
    "plt.hist(disttri, color = 'red', bins = 10)\n",
    "plt.axvline(disttri.mean(), color = 'black', linestyle = 'solid', linewidth = 2)\n",
    "plt.axvline(disttri.mean() + disttri.std(), color = 'black', linestyle = 'dashed', linewidth = 2)\n",
    "plt.axvline(disttri.mean() - disttri.std(), color = 'black', linestyle = 'dashed', linewidth = 2)"
   ]
  },
  {
   "cell_type": "code",
   "execution_count": 32,
   "metadata": {},
   "outputs": [
    {
     "name": "stdout",
     "output_type": "stream",
     "text": [
      "0.5001213441684669\n",
      "0.5366884900326662\n"
     ]
    }
   ],
   "source": [
    "print(np.mean(disttri))\n",
    "print(np.std(disttri))"
   ]
  },
  {
   "cell_type": "code",
   "execution_count": 33,
   "metadata": {},
   "outputs": [
    {
     "data": {
      "text/plain": [
       "<matplotlib.lines.Line2D at 0x121e7fd0>"
      ]
     },
     "execution_count": 33,
     "metadata": {},
     "output_type": "execute_result"
    },
    {
     "data": {
      "image/png": "[encoded data removed]",
      "text/plain": [
       "<Figure size 432x288 with 1 Axes>"
      ]
     },
     "metadata": {
      "needs_background": "light"
     },
     "output_type": "display_data"
    }
   ],
   "source": [
    "var1 = np.random.normal(5,.5, 100)\n",
    "var2 = np.random.normal(10,1, 100)\n",
    "var3 = var1+var2\n",
    "\n",
    "mean = np.mean(var3)\n",
    "sd = np.std(var3)\n",
    "\n",
    "plt.hist(var3)\n",
    "plt.axvline(x=mean,color='black')\n",
    "plt.axvline(x=mean+sd, color='red')\n",
    "plt.axvline(x=mean-sd, color='red')"
   ]
  },
  {
   "cell_type": "code",
   "execution_count": null,
   "metadata": {},
   "outputs": [],
   "source": []
  }
 ],
 "metadata": {
  "kernelspec": {
   "display_name": "Python 3",
   "language": "python",
   "name": "python3"
  },
  "language_info": {
   "codemirror_mode": {
    "name": "ipython",
    "version": 3
   },
   "file_extension": ".py",
   "mimetype": "text/x-python",
   "name": "python",
   "nbconvert_exporter": "python",
   "pygments_lexer": "ipython3",
   "version": "3.7.0"
  }
 },
 "nbformat": 4,
 "nbformat_minor": 2
}
